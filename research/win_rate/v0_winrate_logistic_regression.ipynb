{
 "cells": [
  {
   "cell_type": "code",
   "execution_count": 1,
   "metadata": {},
   "outputs": [],
   "source": [
    "import requests\n",
    "import json\n",
    "import pandas as pd\n",
    "import numpy as np\n",
    "import matplotlib.pyplot as plt\n",
    "import time"
   ]
  },
  {
   "cell_type": "code",
   "execution_count": 2,
   "metadata": {},
   "outputs": [],
   "source": [
    "# download basic hero stats that we can use for embedding\n",
    "\n",
    "_hero_embedding_query = \"https://api.opendota.com/api/heroStats?api_key=\"\n",
    "resp = requests.get(_hero_embedding_query)\n",
    "assert resp.ok\n",
    "stats = pd.DataFrame(json.loads(resp.content)).set_index(\"id\")"
   ]
  },
  {
   "cell_type": "code",
   "execution_count": 3,
   "metadata": {},
   "outputs": [
    {
     "data": {
      "text/plain": [
       "Index(['name', 'localized_name', 'primary_attr', 'attack_type', 'roles', 'img',\n",
       "       'icon', 'base_health', 'base_health_regen', 'base_mana',\n",
       "       'base_mana_regen', 'base_armor', 'base_mr', 'base_attack_min',\n",
       "       'base_attack_max', 'base_str', 'base_agi', 'base_int', 'str_gain',\n",
       "       'agi_gain', 'int_gain', 'attack_range', 'projectile_speed',\n",
       "       'attack_rate', 'move_speed', 'turn_rate', 'cm_enabled', 'legs',\n",
       "       'hero_id', 'turbo_picks', 'turbo_wins', 'pro_ban', 'pro_win',\n",
       "       'pro_pick', '1_pick', '1_win', '2_pick', '2_win', '3_pick', '3_win',\n",
       "       '4_pick', '4_win', '5_pick', '5_win', '6_pick', '6_win', '7_pick',\n",
       "       '7_win', '8_pick', '8_win', 'null_pick', 'null_win'],\n",
       "      dtype='object')"
      ]
     },
     "execution_count": 3,
     "metadata": {},
     "output_type": "execute_result"
    }
   ],
   "source": [
    "stats.columns"
   ]
  },
  {
   "cell_type": "code",
   "execution_count": 4,
   "metadata": {},
   "outputs": [
    {
     "data": {
      "text/html": [
       "<div>\n",
       "<style scoped>\n",
       "    .dataframe tbody tr th:only-of-type {\n",
       "        vertical-align: middle;\n",
       "    }\n",
       "\n",
       "    .dataframe tbody tr th {\n",
       "        vertical-align: top;\n",
       "    }\n",
       "\n",
       "    .dataframe thead th {\n",
       "        text-align: right;\n",
       "    }\n",
       "</style>\n",
       "<table border=\"1\" class=\"dataframe\">\n",
       "  <thead>\n",
       "    <tr style=\"text-align: right;\">\n",
       "      <th></th>\n",
       "      <th>attack_type_Melee</th>\n",
       "      <th>attack_type_Ranged</th>\n",
       "      <th>primary_attr_agi</th>\n",
       "      <th>primary_attr_int</th>\n",
       "      <th>primary_attr_str</th>\n",
       "      <th>Carry</th>\n",
       "      <th>Disabler</th>\n",
       "      <th>Durable</th>\n",
       "      <th>Escape</th>\n",
       "      <th>Initiator</th>\n",
       "      <th>Jungler</th>\n",
       "      <th>Nuker</th>\n",
       "      <th>Pusher</th>\n",
       "      <th>Support</th>\n",
       "    </tr>\n",
       "    <tr>\n",
       "      <th>id</th>\n",
       "      <th></th>\n",
       "      <th></th>\n",
       "      <th></th>\n",
       "      <th></th>\n",
       "      <th></th>\n",
       "      <th></th>\n",
       "      <th></th>\n",
       "      <th></th>\n",
       "      <th></th>\n",
       "      <th></th>\n",
       "      <th></th>\n",
       "      <th></th>\n",
       "      <th></th>\n",
       "      <th></th>\n",
       "    </tr>\n",
       "  </thead>\n",
       "  <tbody>\n",
       "    <tr>\n",
       "      <th>1</th>\n",
       "      <td>1</td>\n",
       "      <td>0</td>\n",
       "      <td>1</td>\n",
       "      <td>0</td>\n",
       "      <td>0</td>\n",
       "      <td>1</td>\n",
       "      <td>0</td>\n",
       "      <td>0</td>\n",
       "      <td>1</td>\n",
       "      <td>0</td>\n",
       "      <td>0</td>\n",
       "      <td>1</td>\n",
       "      <td>0</td>\n",
       "      <td>0</td>\n",
       "    </tr>\n",
       "    <tr>\n",
       "      <th>2</th>\n",
       "      <td>1</td>\n",
       "      <td>0</td>\n",
       "      <td>0</td>\n",
       "      <td>0</td>\n",
       "      <td>1</td>\n",
       "      <td>1</td>\n",
       "      <td>1</td>\n",
       "      <td>1</td>\n",
       "      <td>0</td>\n",
       "      <td>1</td>\n",
       "      <td>1</td>\n",
       "      <td>0</td>\n",
       "      <td>0</td>\n",
       "      <td>0</td>\n",
       "    </tr>\n",
       "    <tr>\n",
       "      <th>3</th>\n",
       "      <td>0</td>\n",
       "      <td>1</td>\n",
       "      <td>0</td>\n",
       "      <td>1</td>\n",
       "      <td>0</td>\n",
       "      <td>0</td>\n",
       "      <td>1</td>\n",
       "      <td>1</td>\n",
       "      <td>0</td>\n",
       "      <td>0</td>\n",
       "      <td>0</td>\n",
       "      <td>1</td>\n",
       "      <td>0</td>\n",
       "      <td>1</td>\n",
       "    </tr>\n",
       "    <tr>\n",
       "      <th>4</th>\n",
       "      <td>1</td>\n",
       "      <td>0</td>\n",
       "      <td>1</td>\n",
       "      <td>0</td>\n",
       "      <td>0</td>\n",
       "      <td>1</td>\n",
       "      <td>1</td>\n",
       "      <td>0</td>\n",
       "      <td>0</td>\n",
       "      <td>1</td>\n",
       "      <td>1</td>\n",
       "      <td>1</td>\n",
       "      <td>0</td>\n",
       "      <td>0</td>\n",
       "    </tr>\n",
       "    <tr>\n",
       "      <th>5</th>\n",
       "      <td>0</td>\n",
       "      <td>1</td>\n",
       "      <td>0</td>\n",
       "      <td>1</td>\n",
       "      <td>0</td>\n",
       "      <td>0</td>\n",
       "      <td>1</td>\n",
       "      <td>0</td>\n",
       "      <td>0</td>\n",
       "      <td>0</td>\n",
       "      <td>1</td>\n",
       "      <td>1</td>\n",
       "      <td>0</td>\n",
       "      <td>1</td>\n",
       "    </tr>\n",
       "    <tr>\n",
       "      <th>...</th>\n",
       "      <td>...</td>\n",
       "      <td>...</td>\n",
       "      <td>...</td>\n",
       "      <td>...</td>\n",
       "      <td>...</td>\n",
       "      <td>...</td>\n",
       "      <td>...</td>\n",
       "      <td>...</td>\n",
       "      <td>...</td>\n",
       "      <td>...</td>\n",
       "      <td>...</td>\n",
       "      <td>...</td>\n",
       "      <td>...</td>\n",
       "      <td>...</td>\n",
       "    </tr>\n",
       "    <tr>\n",
       "      <th>128</th>\n",
       "      <td>0</td>\n",
       "      <td>1</td>\n",
       "      <td>0</td>\n",
       "      <td>0</td>\n",
       "      <td>1</td>\n",
       "      <td>0</td>\n",
       "      <td>1</td>\n",
       "      <td>0</td>\n",
       "      <td>1</td>\n",
       "      <td>0</td>\n",
       "      <td>0</td>\n",
       "      <td>1</td>\n",
       "      <td>0</td>\n",
       "      <td>1</td>\n",
       "    </tr>\n",
       "    <tr>\n",
       "      <th>129</th>\n",
       "      <td>1</td>\n",
       "      <td>0</td>\n",
       "      <td>0</td>\n",
       "      <td>0</td>\n",
       "      <td>1</td>\n",
       "      <td>1</td>\n",
       "      <td>1</td>\n",
       "      <td>1</td>\n",
       "      <td>0</td>\n",
       "      <td>1</td>\n",
       "      <td>0</td>\n",
       "      <td>0</td>\n",
       "      <td>0</td>\n",
       "      <td>0</td>\n",
       "    </tr>\n",
       "    <tr>\n",
       "      <th>135</th>\n",
       "      <td>1</td>\n",
       "      <td>0</td>\n",
       "      <td>0</td>\n",
       "      <td>0</td>\n",
       "      <td>1</td>\n",
       "      <td>1</td>\n",
       "      <td>0</td>\n",
       "      <td>1</td>\n",
       "      <td>0</td>\n",
       "      <td>0</td>\n",
       "      <td>0</td>\n",
       "      <td>0</td>\n",
       "      <td>0</td>\n",
       "      <td>0</td>\n",
       "    </tr>\n",
       "    <tr>\n",
       "      <th>136</th>\n",
       "      <td>1</td>\n",
       "      <td>0</td>\n",
       "      <td>0</td>\n",
       "      <td>0</td>\n",
       "      <td>1</td>\n",
       "      <td>1</td>\n",
       "      <td>1</td>\n",
       "      <td>0</td>\n",
       "      <td>1</td>\n",
       "      <td>1</td>\n",
       "      <td>0</td>\n",
       "      <td>0</td>\n",
       "      <td>0</td>\n",
       "      <td>1</td>\n",
       "    </tr>\n",
       "    <tr>\n",
       "      <th>137</th>\n",
       "      <td>1</td>\n",
       "      <td>0</td>\n",
       "      <td>0</td>\n",
       "      <td>0</td>\n",
       "      <td>1</td>\n",
       "      <td>0</td>\n",
       "      <td>1</td>\n",
       "      <td>1</td>\n",
       "      <td>0</td>\n",
       "      <td>1</td>\n",
       "      <td>0</td>\n",
       "      <td>0</td>\n",
       "      <td>0</td>\n",
       "      <td>0</td>\n",
       "    </tr>\n",
       "  </tbody>\n",
       "</table>\n",
       "<p>123 rows × 14 columns</p>\n",
       "</div>"
      ],
      "text/plain": [
       "     attack_type_Melee  attack_type_Ranged  primary_attr_agi  \\\n",
       "id                                                             \n",
       "1                    1                   0                 1   \n",
       "2                    1                   0                 0   \n",
       "3                    0                   1                 0   \n",
       "4                    1                   0                 1   \n",
       "5                    0                   1                 0   \n",
       "..                 ...                 ...               ...   \n",
       "128                  0                   1                 0   \n",
       "129                  1                   0                 0   \n",
       "135                  1                   0                 0   \n",
       "136                  1                   0                 0   \n",
       "137                  1                   0                 0   \n",
       "\n",
       "     primary_attr_int  primary_attr_str  Carry  Disabler  Durable  Escape  \\\n",
       "id                                                                          \n",
       "1                   0                 0      1         0        0       1   \n",
       "2                   0                 1      1         1        1       0   \n",
       "3                   1                 0      0         1        1       0   \n",
       "4                   0                 0      1         1        0       0   \n",
       "5                   1                 0      0         1        0       0   \n",
       "..                ...               ...    ...       ...      ...     ...   \n",
       "128                 0                 1      0         1        0       1   \n",
       "129                 0                 1      1         1        1       0   \n",
       "135                 0                 1      1         0        1       0   \n",
       "136                 0                 1      1         1        0       1   \n",
       "137                 0                 1      0         1        1       0   \n",
       "\n",
       "     Initiator  Jungler  Nuker  Pusher  Support  \n",
       "id                                               \n",
       "1            0        0      1       0        0  \n",
       "2            1        1      0       0        0  \n",
       "3            0        0      1       0        1  \n",
       "4            1        1      1       0        0  \n",
       "5            0        1      1       0        1  \n",
       "..         ...      ...    ...     ...      ...  \n",
       "128          0        0      1       0        1  \n",
       "129          1        0      0       0        0  \n",
       "135          0        0      0       0        0  \n",
       "136          1        0      0       0        1  \n",
       "137          1        0      0       0        0  \n",
       "\n",
       "[123 rows x 14 columns]"
      ]
     },
     "execution_count": 4,
     "metadata": {},
     "output_type": "execute_result"
    }
   ],
   "source": [
    "# get roles embedding for each hero\n",
    "roles_encoding = stats[\"roles\"].str.join(\"|\").str.get_dummies()\n",
    "\n",
    "# basic embedding: roles + attack_type + primary_attribute\n",
    "embedding = pd.concat([pd.get_dummies(stats[[\"attack_type\", \"primary_attr\"]]), roles_encoding], axis = 1)\n",
    "embedding  # we have our embedding"
   ]
  },
  {
   "cell_type": "code",
   "execution_count": 5,
   "metadata": {},
   "outputs": [],
   "source": [
    "# load in dataset of drafts match outcomes\n",
    "\n",
    "dataset = pd.read_pickle(\"../data/dota.pickle\")\n",
    "radiant_win, radiant_draft, dire_draft, _, _, _, num_heroes = dataset"
   ]
  },
  {
   "cell_type": "code",
   "execution_count": 6,
   "metadata": {},
   "outputs": [],
   "source": [
    "heroes = np.unique(radiant_draft) # all the heroes in the dataset (assume everyone played on radiant at least once)"
   ]
  },
  {
   "cell_type": "code",
   "execution_count": 7,
   "metadata": {},
   "outputs": [
    {
     "data": {
      "image/png": "[encoded data removed]",
      "text/plain": [
       "<Figure size 432x288 with 1 Axes>"
      ]
     },
     "metadata": {
      "needs_background": "light"
     },
     "output_type": "display_data"
    }
   ],
   "source": [
    "plt.hist(radiant_draft.flatten(), bins=114, log=True)\n",
    "plt.show()"
   ]
  },
  {
   "cell_type": "code",
   "execution_count": 8,
   "metadata": {},
   "outputs": [
    {
     "data": {
      "text/plain": [
       "{24, 108}"
      ]
     },
     "execution_count": 8,
     "metadata": {},
     "output_type": "execute_result"
    }
   ],
   "source": [
    "\"\"\"\n",
    "looks like the dataset is missing hero id 24 (this is a known missing id from the entire DOTA dataset). \n",
    "We also have no games where 108 is missing but 109-113 are available - this is because underlord (108)\n",
    "had an id assigned but was not added until after our dataset was generated, so heroes like arc warden\n",
    "have a later id but were in the game earlier and therefore in this dataset.\n",
    "\n",
    "also there is no hero with id 0, so not sure why this is in our dataset - will drop all games in \n",
    "which an id of 0 occurs.\n",
    "\n",
    "=> our dataset is the first 111 heroes released\n",
    "\"\"\"\n",
    "set(np.arange(114)).difference(set(np.unique(radiant_draft))) "
   ]
  },
  {
   "cell_type": "code",
   "execution_count": 9,
   "metadata": {},
   "outputs": [],
   "source": [
    "games = np.concatenate((radiant_draft, dire_draft), axis=1)\n",
    "drop_games_with_zero_id = ~(games == 0).any(axis=1)\n",
    "games = games[drop_games_with_zero_id]\n",
    "radiant_win = radiant_win[drop_games_with_zero_id]\n",
    "\n",
    "assert games.shape[0] == radiant_win.shape[0]"
   ]
  },
  {
   "cell_type": "code",
   "execution_count": 10,
   "metadata": {},
   "outputs": [
    {
     "data": {
      "text/plain": [
       "array([  1,   2,   3,   4,   5,   6,   7,   8,   9,  10,  11,  12,  13,\n",
       "        14,  15,  16,  17,  18,  19,  20,  21,  22,  23,  25,  26,  27,\n",
       "        28,  29,  30,  31,  32,  33,  34,  35,  36,  37,  38,  39,  40,\n",
       "        41,  42,  43,  44,  45,  46,  47,  48,  49,  50,  51,  52,  53,\n",
       "        54,  55,  56,  57,  58,  59,  60,  61,  62,  63,  64,  65,  66,\n",
       "        67,  68,  69,  70,  71,  72,  73,  74,  75,  76,  77,  78,  79,\n",
       "        80,  81,  82,  83,  84,  85,  86,  87,  88,  89,  90,  91,  92,\n",
       "        93,  94,  95,  96,  97,  98,  99, 100, 101, 102, 103, 104, 105,\n",
       "       106, 107, 109, 110, 111, 112, 113], dtype=int64)"
      ]
     },
     "execution_count": 10,
     "metadata": {},
     "output_type": "execute_result"
    }
   ],
   "source": [
    "heroes_id = np.unique(games)\n",
    "heroes_id"
   ]
  },
  {
   "cell_type": "code",
   "execution_count": 11,
   "metadata": {},
   "outputs": [],
   "source": [
    "NUM_HEROES = len(heroes_id)\n",
    "NUM_MATCHES = len(games)\n",
    "\n",
    "hero_id_to_index_mapping = {val: idx for idx, val in enumerate(heroes_id)}  # map each hero to an index position for the vector encoding\n",
    "embedding = embedding.loc[heroes_id]\n",
    "assert len(embedding) == NUM_HEROES\n",
    "\n",
    "# build the draft vector described in paper, a (num_heroes x 1) vector with +1 in the ith entry if the ith hero is picked by radiant, -1 if picked by the dire, 0 otherwise.\n",
    "drafts = list()\n",
    "empty_draft = np.zeros((NUM_HEROES,))\n",
    "\n",
    "# game the hero ids to their correct vector encoding positions\n",
    "mapped_games = np.vectorize(hero_id_to_index_mapping.get)(games)\n",
    "\n",
    "for idx in range(NUM_MATCHES):\n",
    "    temp = empty_draft.copy()\n",
    "    temp[mapped_games[idx, :5]] = 1  # radiant side\n",
    "    temp[mapped_games[idx, 5:]] = -1  # dire side\n",
    "    drafts.append(temp)\n",
    "\n",
    "drafts = np.asarray(drafts, dtype=np.int64)\n",
    "\n",
    "# our dataset of drafts\n",
    "assert drafts.shape == (NUM_MATCHES, NUM_HEROES)\n",
    "\n",
    "# embedding dataset for each match\n",
    "K = (drafts @ embedding).values\n",
    "\n",
    "# combined datset, both embedding + hero indication\n",
    "X = np.concatenate((K, drafts), axis=1)\n",
    "assert X.shape == (NUM_MATCHES, embedding.shape[1] + NUM_HEROES)\n",
    "\n",
    "y = radiant_win.copy()"
   ]
  },
  {
   "cell_type": "code",
   "execution_count": 12,
   "metadata": {},
   "outputs": [],
   "source": [
    "# np.save(\"basic_hero_embedding.npy\", embedding)"
   ]
  },
  {
   "cell_type": "code",
   "execution_count": 13,
   "metadata": {},
   "outputs": [],
   "source": [
    "# create train, val and test split\n",
    "from sklearn.model_selection import train_test_split\n",
    "idx_train, idx_test = train_test_split(np.arange(NUM_MATCHES), test_size=0.2, train_size=0.8, shuffle=True)\n",
    "idx_train, idx_val = train_test_split(idx_train, train_size=0.75, test_size=0.25, shuffle=True)\n",
    "\n",
    "# keep the split points for X and K the same\n",
    "X_train, X_val, X_test = X[idx_train], X[idx_val], X[idx_test]\n",
    "K_train, K_val, K_test = K[idx_train], K[idx_val], K[idx_test]\n",
    "y_train, y_val, y_test = y[idx_train], y[idx_val], y[idx_test]\n"
   ]
  },
  {
   "cell_type": "code",
   "execution_count": 14,
   "metadata": {},
   "outputs": [
    {
     "data": {
      "text/html": [
       "<style>#sk-container-id-1 {color: black;background-color: white;}#sk-container-id-1 pre{padding: 0;}#sk-container-id-1 div.sk-toggleable {background-color: white;}#sk-container-id-1 label.sk-toggleable__label {cursor: pointer;display: block;width: 100%;margin-bottom: 0;padding: 0.3em;box-sizing: border-box;text-align: center;}#sk-container-id-1 label.sk-toggleable__label-arrow:before {content: \"▸\";float: left;margin-right: 0.25em;color: #696969;}#sk-container-id-1 label.sk-toggleable__label-arrow:hover:before {color: black;}#sk-container-id-1 div.sk-estimator:hover label.sk-toggleable__label-arrow:before {color: black;}#sk-container-id-1 div.sk-toggleable__content {max-height: 0;max-width: 0;overflow: hidden;text-align: left;background-color: #f0f8ff;}#sk-container-id-1 div.sk-toggleable__content pre {margin: 0.2em;color: black;border-radius: 0.25em;background-color: #f0f8ff;}#sk-container-id-1 input.sk-toggleable__control:checked~div.sk-toggleable__content {max-height: 200px;max-width: 100%;overflow: auto;}#sk-container-id-1 input.sk-toggleable__control:checked~label.sk-toggleable__label-arrow:before {content: \"▾\";}#sk-container-id-1 div.sk-estimator input.sk-toggleable__control:checked~label.sk-toggleable__label {background-color: #d4ebff;}#sk-container-id-1 div.sk-label input.sk-toggleable__control:checked~label.sk-toggleable__label {background-color: #d4ebff;}#sk-container-id-1 input.sk-hidden--visually {border: 0;clip: rect(1px 1px 1px 1px);clip: rect(1px, 1px, 1px, 1px);height: 1px;margin: -1px;overflow: hidden;padding: 0;position: absolute;width: 1px;}#sk-container-id-1 div.sk-estimator {font-family: monospace;background-color: #f0f8ff;border: 1px dotted black;border-radius: 0.25em;box-sizing: border-box;margin-bottom: 0.5em;}#sk-container-id-1 div.sk-estimator:hover {background-color: #d4ebff;}#sk-container-id-1 div.sk-parallel-item::after {content: \"\";width: 100%;border-bottom: 1px solid gray;flex-grow: 1;}#sk-container-id-1 div.sk-label:hover label.sk-toggleable__label {background-color: #d4ebff;}#sk-container-id-1 div.sk-serial::before {content: \"\";position: absolute;border-left: 1px solid gray;box-sizing: border-box;top: 0;bottom: 0;left: 50%;z-index: 0;}#sk-container-id-1 div.sk-serial {display: flex;flex-direction: column;align-items: center;background-color: white;padding-right: 0.2em;padding-left: 0.2em;position: relative;}#sk-container-id-1 div.sk-item {position: relative;z-index: 1;}#sk-container-id-1 div.sk-parallel {display: flex;align-items: stretch;justify-content: center;background-color: white;position: relative;}#sk-container-id-1 div.sk-item::before, #sk-container-id-1 div.sk-parallel-item::before {content: \"\";position: absolute;border-left: 1px solid gray;box-sizing: border-box;top: 0;bottom: 0;left: 50%;z-index: -1;}#sk-container-id-1 div.sk-parallel-item {display: flex;flex-direction: column;z-index: 1;position: relative;background-color: white;}#sk-container-id-1 div.sk-parallel-item:first-child::after {align-self: flex-end;width: 50%;}#sk-container-id-1 div.sk-parallel-item:last-child::after {align-self: flex-start;width: 50%;}#sk-container-id-1 div.sk-parallel-item:only-child::after {width: 0;}#sk-container-id-1 div.sk-dashed-wrapped {border: 1px dashed gray;margin: 0 0.4em 0.5em 0.4em;box-sizing: border-box;padding-bottom: 0.4em;background-color: white;}#sk-container-id-1 div.sk-label label {font-family: monospace;font-weight: bold;display: inline-block;line-height: 1.2em;}#sk-container-id-1 div.sk-label-container {text-align: center;}#sk-container-id-1 div.sk-container {/* jupyter's `normalize.less` sets `[hidden] { display: none; }` but bootstrap.min.css set `[hidden] { display: none !important; }` so we also need the `!important` here to be able to override the default hidden behavior on the sphinx rendered scikit-learn.org. See: https://github.com/scikit-learn/scikit-learn/issues/21755 */display: inline-block !important;position: relative;}#sk-container-id-1 div.sk-text-repr-fallback {display: none;}</style><div id=\"sk-container-id-1\" class=\"sk-top-container\"><div class=\"sk-text-repr-fallback\"><pre>LogisticRegression(max_iter=1000000.0, penalty=&#x27;l1&#x27;, solver=&#x27;liblinear&#x27;)</pre><b>In a Jupyter environment, please rerun this cell to show the HTML representation or trust the notebook. <br />On GitHub, the HTML representation is unable to render, please try loading this page with nbviewer.org.</b></div><div class=\"sk-container\" hidden><div class=\"sk-item\"><div class=\"sk-estimator sk-toggleable\"><input class=\"sk-toggleable__control sk-hidden--visually\" id=\"sk-estimator-id-1\" type=\"checkbox\" checked><label for=\"sk-estimator-id-1\" class=\"sk-toggleable__label sk-toggleable__label-arrow\">LogisticRegression</label><div class=\"sk-toggleable__content\"><pre>LogisticRegression(max_iter=1000000.0, penalty=&#x27;l1&#x27;, solver=&#x27;liblinear&#x27;)</pre></div></div></div></div></div>"
      ],
      "text/plain": [
       "LogisticRegression(max_iter=1000000.0, penalty='l1', solver='liblinear')"
      ]
     },
     "execution_count": 14,
     "metadata": {},
     "output_type": "execute_result"
    }
   ],
   "source": [
    "# fit benchmark Logistic Regression model with only embeddings\n",
    "from sklearn.linear_model import LogisticRegression\n",
    "from sklearn.metrics import accuracy_score\n",
    "\n",
    "base_model = LogisticRegression(penalty=\"l1\", solver=\"liblinear\", max_iter=1e6)\n",
    "base_model.fit(K_train, y_train)"
   ]
  },
  {
   "cell_type": "code",
   "execution_count": 15,
   "metadata": {},
   "outputs": [
    {
     "name": "stdout",
     "output_type": "stream",
     "text": [
      "Accuracy score for training datset: 0.5750465738244199\n",
      "Accuracy score for validation datset: 0.5757719038768618\n"
     ]
    }
   ],
   "source": [
    "print(f\"Accuracy score for training datset: {accuracy_score(y_train, base_model.predict(K_train))}\")\n",
    "print(f\"Accuracy score for validation datset: {accuracy_score(y_val, base_model.predict(K_val))}\")"
   ]
  },
  {
   "cell_type": "code",
   "execution_count": 16,
   "metadata": {},
   "outputs": [
    {
     "data": {
      "text/html": [
       "<style>#sk-container-id-2 {color: black;background-color: white;}#sk-container-id-2 pre{padding: 0;}#sk-container-id-2 div.sk-toggleable {background-color: white;}#sk-container-id-2 label.sk-toggleable__label {cursor: pointer;display: block;width: 100%;margin-bottom: 0;padding: 0.3em;box-sizing: border-box;text-align: center;}#sk-container-id-2 label.sk-toggleable__label-arrow:before {content: \"▸\";float: left;margin-right: 0.25em;color: #696969;}#sk-container-id-2 label.sk-toggleable__label-arrow:hover:before {color: black;}#sk-container-id-2 div.sk-estimator:hover label.sk-toggleable__label-arrow:before {color: black;}#sk-container-id-2 div.sk-toggleable__content {max-height: 0;max-width: 0;overflow: hidden;text-align: left;background-color: #f0f8ff;}#sk-container-id-2 div.sk-toggleable__content pre {margin: 0.2em;color: black;border-radius: 0.25em;background-color: #f0f8ff;}#sk-container-id-2 input.sk-toggleable__control:checked~div.sk-toggleable__content {max-height: 200px;max-width: 100%;overflow: auto;}#sk-container-id-2 input.sk-toggleable__control:checked~label.sk-toggleable__label-arrow:before {content: \"▾\";}#sk-container-id-2 div.sk-estimator input.sk-toggleable__control:checked~label.sk-toggleable__label {background-color: #d4ebff;}#sk-container-id-2 div.sk-label input.sk-toggleable__control:checked~label.sk-toggleable__label {background-color: #d4ebff;}#sk-container-id-2 input.sk-hidden--visually {border: 0;clip: rect(1px 1px 1px 1px);clip: rect(1px, 1px, 1px, 1px);height: 1px;margin: -1px;overflow: hidden;padding: 0;position: absolute;width: 1px;}#sk-container-id-2 div.sk-estimator {font-family: monospace;background-color: #f0f8ff;border: 1px dotted black;border-radius: 0.25em;box-sizing: border-box;margin-bottom: 0.5em;}#sk-container-id-2 div.sk-estimator:hover {background-color: #d4ebff;}#sk-container-id-2 div.sk-parallel-item::after {content: \"\";width: 100%;border-bottom: 1px solid gray;flex-grow: 1;}#sk-container-id-2 div.sk-label:hover label.sk-toggleable__label {background-color: #d4ebff;}#sk-container-id-2 div.sk-serial::before {content: \"\";position: absolute;border-left: 1px solid gray;box-sizing: border-box;top: 0;bottom: 0;left: 50%;z-index: 0;}#sk-container-id-2 div.sk-serial {display: flex;flex-direction: column;align-items: center;background-color: white;padding-right: 0.2em;padding-left: 0.2em;position: relative;}#sk-container-id-2 div.sk-item {position: relative;z-index: 1;}#sk-container-id-2 div.sk-parallel {display: flex;align-items: stretch;justify-content: center;background-color: white;position: relative;}#sk-container-id-2 div.sk-item::before, #sk-container-id-2 div.sk-parallel-item::before {content: \"\";position: absolute;border-left: 1px solid gray;box-sizing: border-box;top: 0;bottom: 0;left: 50%;z-index: -1;}#sk-container-id-2 div.sk-parallel-item {display: flex;flex-direction: column;z-index: 1;position: relative;background-color: white;}#sk-container-id-2 div.sk-parallel-item:first-child::after {align-self: flex-end;width: 50%;}#sk-container-id-2 div.sk-parallel-item:last-child::after {align-self: flex-start;width: 50%;}#sk-container-id-2 div.sk-parallel-item:only-child::after {width: 0;}#sk-container-id-2 div.sk-dashed-wrapped {border: 1px dashed gray;margin: 0 0.4em 0.5em 0.4em;box-sizing: border-box;padding-bottom: 0.4em;background-color: white;}#sk-container-id-2 div.sk-label label {font-family: monospace;font-weight: bold;display: inline-block;line-height: 1.2em;}#sk-container-id-2 div.sk-label-container {text-align: center;}#sk-container-id-2 div.sk-container {/* jupyter's `normalize.less` sets `[hidden] { display: none; }` but bootstrap.min.css set `[hidden] { display: none !important; }` so we also need the `!important` here to be able to override the default hidden behavior on the sphinx rendered scikit-learn.org. See: https://github.com/scikit-learn/scikit-learn/issues/21755 */display: inline-block !important;position: relative;}#sk-container-id-2 div.sk-text-repr-fallback {display: none;}</style><div id=\"sk-container-id-2\" class=\"sk-top-container\"><div class=\"sk-text-repr-fallback\"><pre>LogisticRegression(penalty=&#x27;l1&#x27;, solver=&#x27;liblinear&#x27;)</pre><b>In a Jupyter environment, please rerun this cell to show the HTML representation or trust the notebook. <br />On GitHub, the HTML representation is unable to render, please try loading this page with nbviewer.org.</b></div><div class=\"sk-container\" hidden><div class=\"sk-item\"><div class=\"sk-estimator sk-toggleable\"><input class=\"sk-toggleable__control sk-hidden--visually\" id=\"sk-estimator-id-2\" type=\"checkbox\" checked><label for=\"sk-estimator-id-2\" class=\"sk-toggleable__label sk-toggleable__label-arrow\">LogisticRegression</label><div class=\"sk-toggleable__content\"><pre>LogisticRegression(penalty=&#x27;l1&#x27;, solver=&#x27;liblinear&#x27;)</pre></div></div></div></div></div>"
      ],
      "text/plain": [
       "LogisticRegression(penalty='l1', solver='liblinear')"
      ]
     },
     "execution_count": 16,
     "metadata": {},
     "output_type": "execute_result"
    }
   ],
   "source": [
    "# fit larger LR model with hero specific coefs\n",
    "\n",
    "hero_model = LogisticRegression(penalty=\"l1\", solver=\"liblinear\")\n",
    "hero_model.fit(X_train, y_train)"
   ]
  },
  {
   "cell_type": "code",
   "execution_count": 17,
   "metadata": {},
   "outputs": [
    {
     "name": "stdout",
     "output_type": "stream",
     "text": [
      "Accuracy score for training datset: 0.6395082371316633\n",
      "Accuracy score for validation datset: 0.6388019947121804\n"
     ]
    }
   ],
   "source": [
    "print(f\"Accuracy score for training datset: {accuracy_score(y_train, hero_model.predict(X_train))}\")\n",
    "print(f\"Accuracy score for validation datset: {accuracy_score(y_val, hero_model.predict(X_val))}\")"
   ]
  },
  {
   "cell_type": "code",
   "execution_count": null,
   "metadata": {},
   "outputs": [],
   "source": []
  },
  {
   "cell_type": "code",
   "execution_count": null,
   "metadata": {},
   "outputs": [],
   "source": []
  },
  {
   "cell_type": "code",
   "execution_count": null,
   "metadata": {},
   "outputs": [],
   "source": []
  },
  {
   "cell_type": "code",
   "execution_count": null,
   "metadata": {},
   "outputs": [],
   "source": []
  },
  {
   "cell_type": "code",
   "execution_count": 35,
   "metadata": {},
   "outputs": [],
   "source": [
    "# for each hero lets see what their individual win rate would be\n",
    "\n",
    "drafts = np.diag(np.ones(NUM_HEROES))\n",
    "_K = (drafts @ embedding).values\n",
    "_X = np.concatenate((_K, drafts), axis=1)\n",
    "\n",
    "predictions = base_model.predict_proba(_K)[:, 0]\n"
   ]
  },
  {
   "cell_type": "code",
   "execution_count": 36,
   "metadata": {},
   "outputs": [
    {
     "name": "stdout",
     "output_type": "stream",
     "text": [
      "Top 10 pred WR\n",
      "Meepo               0.563935\n",
      "Storm Spirit        0.560754\n",
      "Ember Spirit        0.557900\n",
      "Nature's Prophet    0.553973\n",
      "Arc Warden          0.548138\n",
      "Magnus              0.545207\n",
      "Bloodseeker         0.545117\n",
      "Phoenix             0.543882\n",
      "Sand King           0.540781\n",
      "Puck                0.540513\n",
      "dtype: float64\n",
      "\n",
      "Bottom 10 pred WR\n",
      "Enchantress      0.421802\n",
      "Bane             0.431713\n",
      "Abaddon          0.433823\n",
      "Undying          0.436359\n",
      "Visage           0.437734\n",
      "Omniknight       0.442339\n",
      "Ogre Magi        0.447422\n",
      "Ursa             0.450063\n",
      "Medusa           0.453156\n",
      "Troll Warlord    0.459235\n",
      "dtype: float64\n"
     ]
    }
   ],
   "source": [
    "indiv_wr_preds = pd.Series(index = stats.loc[heroes_id][\"localized_name\"].values, data = predictions).sort_values()\n",
    "print(\"Top 10 pred WR\")\n",
    "print(indiv_wr_preds.iloc[-10:].sort_values(ascending=False))\n",
    "print()\n",
    "print(\"Bottom 10 pred WR\")\n",
    "print(indiv_wr_preds.iloc[:10])"
   ]
  },
  {
   "cell_type": "code",
   "execution_count": 24,
   "metadata": {},
   "outputs": [],
   "source": [
    "# save this model for later\n",
    "# import joblib\n",
    "\n",
    "# _filename = \"wr_basic_logisitic_regression.p\"\n",
    "# _ = joblib.dump(hero_model, _filename)"
   ]
  },
  {
   "cell_type": "code",
   "execution_count": 13,
   "metadata": {},
   "outputs": [],
   "source": [
    "# TODO - fine tune with cross validation, this takes a long time\n",
    "\n",
    "# from sklearn.linear_model import LogisticRegressionCV\n",
    "\n",
    "# tuned_model = LogisticRegressionCV(penalty=\"l1\", solver=\"liblinear\")\n",
    "# tuned_model.fit(X_train, y_train)"
   ]
  },
  {
   "cell_type": "code",
   "execution_count": 55,
   "metadata": {},
   "outputs": [],
   "source": [
    "subset = X_train[:100000]"
   ]
  },
  {
   "cell_type": "code",
   "execution_count": 58,
   "metadata": {},
   "outputs": [],
   "source": [
    "from locale import locale_alias\n",
    "from sklearn.manifold import LocallyLinearEmbedding\n",
    "\n",
    "model_embedding = LocallyLinearEmbedding(n_components=20, n_neighbors=300, method=\"modified\")"
   ]
  },
  {
   "cell_type": "code",
   "execution_count": 59,
   "metadata": {},
   "outputs": [
    {
     "ename": "MemoryError",
     "evalue": "Unable to allocate 67.1 GiB for an array with shape (100000, 300, 300) and data type float64",
     "output_type": "error",
     "traceback": [
      "\u001b[1;31m---------------------------------------------------------------------------\u001b[0m",
      "\u001b[1;31mMemoryError\u001b[0m                               Traceback (most recent call last)",
      "\u001b[1;32md:\\projects\\oracle\\research\\win_rate\\v0_winrate_logistic_regression.ipynb Cell 28\u001b[0m in \u001b[0;36m<cell line: 1>\u001b[1;34m()\u001b[0m\n\u001b[1;32m----> <a href='vscode-notebook-cell:/d%3A/projects/oracle/research/win_rate/v0_winrate_logistic_regression.ipynb#X34sZmlsZQ%3D%3D?line=0'>1</a>\u001b[0m out \u001b[39m=\u001b[39m model_embedding\u001b[39m.\u001b[39;49mfit_transform(subset)\n",
      "File \u001b[1;32mc:\\Anaconda3\\envs\\dagon\\lib\\site-packages\\sklearn\\manifold\\_locally_linear.py:778\u001b[0m, in \u001b[0;36mLocallyLinearEmbedding.fit_transform\u001b[1;34m(self, X, y)\u001b[0m\n\u001b[0;32m    762\u001b[0m \u001b[39mdef\u001b[39;00m \u001b[39mfit_transform\u001b[39m(\u001b[39mself\u001b[39m, X, y\u001b[39m=\u001b[39m\u001b[39mNone\u001b[39;00m):\n\u001b[0;32m    763\u001b[0m     \u001b[39m\"\"\"Compute the embedding vectors for data X and transform X.\u001b[39;00m\n\u001b[0;32m    764\u001b[0m \n\u001b[0;32m    765\u001b[0m \u001b[39m    Parameters\u001b[39;00m\n\u001b[1;32m   (...)\u001b[0m\n\u001b[0;32m    776\u001b[0m \u001b[39m        Returns the instance itself.\u001b[39;00m\n\u001b[0;32m    777\u001b[0m \u001b[39m    \"\"\"\u001b[39;00m\n\u001b[1;32m--> 778\u001b[0m     \u001b[39mself\u001b[39;49m\u001b[39m.\u001b[39;49m_fit_transform(X)\n\u001b[0;32m    779\u001b[0m     \u001b[39mreturn\u001b[39;00m \u001b[39mself\u001b[39m\u001b[39m.\u001b[39membedding_\n",
      "File \u001b[1;32mc:\\Anaconda3\\envs\\dagon\\lib\\site-packages\\sklearn\\manifold\\_locally_linear.py:727\u001b[0m, in \u001b[0;36mLocallyLinearEmbedding._fit_transform\u001b[1;34m(self, X)\u001b[0m\n\u001b[0;32m    725\u001b[0m X \u001b[39m=\u001b[39m \u001b[39mself\u001b[39m\u001b[39m.\u001b[39m_validate_data(X, dtype\u001b[39m=\u001b[39m\u001b[39mfloat\u001b[39m)\n\u001b[0;32m    726\u001b[0m \u001b[39mself\u001b[39m\u001b[39m.\u001b[39mnbrs_\u001b[39m.\u001b[39mfit(X)\n\u001b[1;32m--> 727\u001b[0m \u001b[39mself\u001b[39m\u001b[39m.\u001b[39membedding_, \u001b[39mself\u001b[39m\u001b[39m.\u001b[39mreconstruction_error_ \u001b[39m=\u001b[39m locally_linear_embedding(\n\u001b[0;32m    728\u001b[0m     X\u001b[39m=\u001b[39;49m\u001b[39mself\u001b[39;49m\u001b[39m.\u001b[39;49mnbrs_,\n\u001b[0;32m    729\u001b[0m     n_neighbors\u001b[39m=\u001b[39;49m\u001b[39mself\u001b[39;49m\u001b[39m.\u001b[39;49mn_neighbors,\n\u001b[0;32m    730\u001b[0m     n_components\u001b[39m=\u001b[39;49m\u001b[39mself\u001b[39;49m\u001b[39m.\u001b[39;49mn_components,\n\u001b[0;32m    731\u001b[0m     eigen_solver\u001b[39m=\u001b[39;49m\u001b[39mself\u001b[39;49m\u001b[39m.\u001b[39;49meigen_solver,\n\u001b[0;32m    732\u001b[0m     tol\u001b[39m=\u001b[39;49m\u001b[39mself\u001b[39;49m\u001b[39m.\u001b[39;49mtol,\n\u001b[0;32m    733\u001b[0m     max_iter\u001b[39m=\u001b[39;49m\u001b[39mself\u001b[39;49m\u001b[39m.\u001b[39;49mmax_iter,\n\u001b[0;32m    734\u001b[0m     method\u001b[39m=\u001b[39;49m\u001b[39mself\u001b[39;49m\u001b[39m.\u001b[39;49mmethod,\n\u001b[0;32m    735\u001b[0m     hessian_tol\u001b[39m=\u001b[39;49m\u001b[39mself\u001b[39;49m\u001b[39m.\u001b[39;49mhessian_tol,\n\u001b[0;32m    736\u001b[0m     modified_tol\u001b[39m=\u001b[39;49m\u001b[39mself\u001b[39;49m\u001b[39m.\u001b[39;49mmodified_tol,\n\u001b[0;32m    737\u001b[0m     random_state\u001b[39m=\u001b[39;49mrandom_state,\n\u001b[0;32m    738\u001b[0m     reg\u001b[39m=\u001b[39;49m\u001b[39mself\u001b[39;49m\u001b[39m.\u001b[39;49mreg,\n\u001b[0;32m    739\u001b[0m     n_jobs\u001b[39m=\u001b[39;49m\u001b[39mself\u001b[39;49m\u001b[39m.\u001b[39;49mn_jobs,\n\u001b[0;32m    740\u001b[0m )\n\u001b[0;32m    741\u001b[0m \u001b[39mself\u001b[39m\u001b[39m.\u001b[39m_n_features_out \u001b[39m=\u001b[39m \u001b[39mself\u001b[39m\u001b[39m.\u001b[39membedding_\u001b[39m.\u001b[39mshape[\u001b[39m1\u001b[39m]\n",
      "File \u001b[1;32mc:\\Anaconda3\\envs\\dagon\\lib\\site-packages\\sklearn\\manifold\\_locally_linear.py:415\u001b[0m, in \u001b[0;36mlocally_linear_embedding\u001b[1;34m(X, n_neighbors, n_components, reg, eigen_solver, tol, max_iter, method, hessian_tol, modified_tol, random_state, n_jobs)\u001b[0m\n\u001b[0;32m    410\u001b[0m neighbors \u001b[39m=\u001b[39m neighbors[:, \u001b[39m1\u001b[39m:]\n\u001b[0;32m    412\u001b[0m \u001b[39m# find the eigenvectors and eigenvalues of each local covariance\u001b[39;00m\n\u001b[0;32m    413\u001b[0m \u001b[39m# matrix. We want V[i] to be a [n_neighbors x n_neighbors] matrix,\u001b[39;00m\n\u001b[0;32m    414\u001b[0m \u001b[39m# where the columns are eigenvectors\u001b[39;00m\n\u001b[1;32m--> 415\u001b[0m V \u001b[39m=\u001b[39m np\u001b[39m.\u001b[39;49mzeros((N, n_neighbors, n_neighbors))\n\u001b[0;32m    416\u001b[0m nev \u001b[39m=\u001b[39m \u001b[39mmin\u001b[39m(d_in, n_neighbors)\n\u001b[0;32m    417\u001b[0m evals \u001b[39m=\u001b[39m np\u001b[39m.\u001b[39mzeros([N, nev])\n",
      "\u001b[1;31mMemoryError\u001b[0m: Unable to allocate 67.1 GiB for an array with shape (100000, 300, 300) and data type float64"
     ]
    }
   ],
   "source": [
    "out = model_embedding.fit_transform(subset)"
   ]
  },
  {
   "cell_type": "code",
   "execution_count": null,
   "metadata": {},
   "outputs": [
    {
     "data": {
      "text/plain": [
       "[<matplotlib.lines.Line2D at 0x107ae2e7580>,\n",
       " <matplotlib.lines.Line2D at 0x107ae2e75e0>,\n",
       " <matplotlib.lines.Line2D at 0x107ae2e7700>,\n",
       " <matplotlib.lines.Line2D at 0x107ae2e7820>,\n",
       " <matplotlib.lines.Line2D at 0x107ae2e7940>]"
      ]
     },
     "execution_count": 49,
     "metadata": {},
     "output_type": "execute_result"
    },
    {
     "data": {
      "image/png": "[encoded data removed]",
      "text/plain": [
       "<Figure size 432x288 with 1 Axes>"
      ]
     },
     "metadata": {
      "needs_background": "light"
     },
     "output_type": "display_data"
    }
   ],
   "source": [
    "plt.plot(out)"
   ]
  },
  {
   "cell_type": "code",
   "execution_count": 54,
   "metadata": {},
   "outputs": [
    {
     "data": {
      "text/plain": [
       "(111, 111)"
      ]
     },
     "execution_count": 54,
     "metadata": {},
     "output_type": "execute_result"
    }
   ],
   "source": [
    "drafts.shape"
   ]
  },
  {
   "cell_type": "code",
   "execution_count": null,
   "metadata": {},
   "outputs": [],
   "source": []
  }
 ],
 "metadata": {
  "kernelspec": {
   "display_name": "oracle",
   "language": "python",
   "name": "python3"
  },
  "language_info": {
   "codemirror_mode": {
    "name": "ipython",
    "version": 3
   },
   "file_extension": ".py",
   "mimetype": "text/x-python",
   "name": "python",
   "nbconvert_exporter": "python",
   "pygments_lexer": "ipython3",
   "version": "3.10.8 | packaged by conda-forge | (main, Nov 22 2022, 08:26:04) [GCC 10.4.0]"
  },
  "orig_nbformat": 4,
  "vscode": {
   "interpreter": {
    "hash": "89c76a958d9b12c3f013b3177d36901f0a244256ee3468154de96011560c66e4"
   }
  }
 },
 "nbformat": 4,
 "nbformat_minor": 2
}
